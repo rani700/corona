{
  "nbformat": 4,
  "nbformat_minor": 0,
  "metadata": {
    "colab": {
      "name": "start.ipynb",
      "provenance": []
    },
    "kernelspec": {
      "name": "python3",
      "display_name": "Python 3"
    }
  },
  "cells": [
    {
      "cell_type": "code",
      "metadata": {
        "id": "6Ocx9UgSb_2e",
        "colab_type": "code",
        "colab": {}
      },
      "source": [
        "import numpy as np\n",
        "import matplotlib.pyplot as plt\n",
        "import pandas as pd\n",
        "from sklearn.preprocessing import StandardScaler"
      ],
      "execution_count": 0,
      "outputs": []
    },
    {
      "cell_type": "code",
      "metadata": {
        "id": "960kT3FK_uzr",
        "colab_type": "code",
        "colab": {}
      },
      "source": [
        "data = pd.read_csv('https://raw.githubusercontent.com/rani700/corona/master/datasets/complete.csv')"
      ],
      "execution_count": 0,
      "outputs": []
    },
    {
      "cell_type": "code",
      "metadata": {
        "id": "x-VCWHw3ALU2",
        "colab_type": "code",
        "colab": {
          "base_uri": "https://localhost:8080/",
          "height": 323
        },
        "outputId": "3e5a4676-b02f-4632-ecc4-91fc4712a745"
      },
      "source": [
        "data.head()"
      ],
      "execution_count": 3,
      "outputs": [
        {
          "output_type": "execute_result",
          "data": {
            "text/html": [
              "<div>\n",
              "<style scoped>\n",
              "    .dataframe tbody tr th:only-of-type {\n",
              "        vertical-align: middle;\n",
              "    }\n",
              "\n",
              "    .dataframe tbody tr th {\n",
              "        vertical-align: top;\n",
              "    }\n",
              "\n",
              "    .dataframe thead th {\n",
              "        text-align: right;\n",
              "    }\n",
              "</style>\n",
              "<table border=\"1\" class=\"dataframe\">\n",
              "  <thead>\n",
              "    <tr style=\"text-align: right;\">\n",
              "      <th></th>\n",
              "      <th>Date</th>\n",
              "      <th>Name of State / UT</th>\n",
              "      <th>Total Confirmed cases (Indian National)</th>\n",
              "      <th>Total Confirmed cases ( Foreign National )</th>\n",
              "      <th>Cured/Discharged/Migrated</th>\n",
              "      <th>Latitude</th>\n",
              "      <th>Longitude</th>\n",
              "      <th>Death</th>\n",
              "      <th>Total Confirmed cases</th>\n",
              "    </tr>\n",
              "  </thead>\n",
              "  <tbody>\n",
              "    <tr>\n",
              "      <th>0</th>\n",
              "      <td>2020-01-30</td>\n",
              "      <td>Kerala</td>\n",
              "      <td>1</td>\n",
              "      <td>0</td>\n",
              "      <td>0</td>\n",
              "      <td>10.8505</td>\n",
              "      <td>76.2711</td>\n",
              "      <td>0</td>\n",
              "      <td>1</td>\n",
              "    </tr>\n",
              "    <tr>\n",
              "      <th>1</th>\n",
              "      <td>2020-01-31</td>\n",
              "      <td>Kerala</td>\n",
              "      <td>1</td>\n",
              "      <td>0</td>\n",
              "      <td>0</td>\n",
              "      <td>10.8505</td>\n",
              "      <td>76.2711</td>\n",
              "      <td>0</td>\n",
              "      <td>1</td>\n",
              "    </tr>\n",
              "    <tr>\n",
              "      <th>2</th>\n",
              "      <td>2020-02-01</td>\n",
              "      <td>Kerala</td>\n",
              "      <td>2</td>\n",
              "      <td>0</td>\n",
              "      <td>0</td>\n",
              "      <td>10.8505</td>\n",
              "      <td>76.2711</td>\n",
              "      <td>0</td>\n",
              "      <td>2</td>\n",
              "    </tr>\n",
              "    <tr>\n",
              "      <th>3</th>\n",
              "      <td>2020-02-02</td>\n",
              "      <td>Kerala</td>\n",
              "      <td>3</td>\n",
              "      <td>0</td>\n",
              "      <td>0</td>\n",
              "      <td>10.8505</td>\n",
              "      <td>76.2711</td>\n",
              "      <td>0</td>\n",
              "      <td>3</td>\n",
              "    </tr>\n",
              "    <tr>\n",
              "      <th>4</th>\n",
              "      <td>2020-02-03</td>\n",
              "      <td>Kerala</td>\n",
              "      <td>3</td>\n",
              "      <td>0</td>\n",
              "      <td>0</td>\n",
              "      <td>10.8505</td>\n",
              "      <td>76.2711</td>\n",
              "      <td>0</td>\n",
              "      <td>3</td>\n",
              "    </tr>\n",
              "  </tbody>\n",
              "</table>\n",
              "</div>"
            ],
            "text/plain": [
              "         Date Name of State / UT  ...  Death  Total Confirmed cases\n",
              "0  2020-01-30             Kerala  ...      0                      1\n",
              "1  2020-01-31             Kerala  ...      0                      1\n",
              "2  2020-02-01             Kerala  ...      0                      2\n",
              "3  2020-02-02             Kerala  ...      0                      3\n",
              "4  2020-02-03             Kerala  ...      0                      3\n",
              "\n",
              "[5 rows x 9 columns]"
            ]
          },
          "metadata": {
            "tags": []
          },
          "execution_count": 3
        }
      ]
    },
    {
      "cell_type": "code",
      "metadata": {
        "id": "x7y855G4APRm",
        "colab_type": "code",
        "colab": {}
      },
      "source": [
        "cases = data.iloc[:, [0, -1, -2]].groupby(['Date']).sum()"
      ],
      "execution_count": 0,
      "outputs": []
    },
    {
      "cell_type": "code",
      "metadata": {
        "id": "STTO_h44ATi9",
        "colab_type": "code",
        "colab": {
          "base_uri": "https://localhost:8080/",
          "height": 606
        },
        "outputId": "f640dc14-18e3-45ab-c606-9784b0f6f46b"
      },
      "source": [
        "cases[-40:].plot(figsize=(15, 10))\n",
        "plt.show()"
      ],
      "execution_count": 5,
      "outputs": [
        {
          "output_type": "display_data",
          "data": {
            "image/png": "[encoded data removed]",
            "text/plain": [
              "<Figure size 1080x720 with 1 Axes>"
            ]
          },
          "metadata": {
            "tags": [],
            "needs_background": "light"
          }
        }
      ]
    },
    {
      "cell_type": "code",
      "metadata": {
        "id": "8LllOkNNAWod",
        "colab_type": "code",
        "colab": {}
      },
      "source": [
        "d = cases.iloc[-40:, [0]].values"
      ],
      "execution_count": 0,
      "outputs": []
    },
    {
      "cell_type": "code",
      "metadata": {
        "id": "dGK91lWoEXE5",
        "colab_type": "code",
        "colab": {
          "base_uri": "https://localhost:8080/",
          "height": 34
        },
        "outputId": "bd204be9-1807-4354-acf2-7c6cc9fa8ef1"
      },
      "source": [
        "d.shape"
      ],
      "execution_count": 7,
      "outputs": [
        {
          "output_type": "execute_result",
          "data": {
            "text/plain": [
              "(40, 1)"
            ]
          },
          "metadata": {
            "tags": []
          },
          "execution_count": 7
        }
      ]
    },
    {
      "cell_type": "code",
      "metadata": {
        "id": "mH0HVExIEnXt",
        "colab_type": "code",
        "colab": {}
      },
      "source": [
        "def getData(data, N_min = 10, N_max = 15, O = 5, P_min = 10, P_max = 15):\n",
        "\n",
        "  scaler = StandardScaler()\n",
        "  scaler.fit(data)\n",
        "  data = scaler.transform(data)\n",
        "\n",
        "  N_min = N_min\n",
        "  N_max = N_max\n",
        "  O = O\n",
        "  P_min = P_min\n",
        "  P_max = P_max\n",
        "  Dimension = 1\n",
        "\n",
        "  X = []\n",
        "  y = []\n",
        "\n",
        "  # VLSW\n",
        "  for N in range(N_min, N_max+1):\n",
        "    for P in range(P_min, P_max+1):\n",
        "      for i in range(len(data) - (N + O + P) +1):\n",
        "        N_pad = N_max - N\n",
        "        P_pad = P_max - P\n",
        "\n",
        "        temp1 = data[i : i+N]\n",
        "        temp2 = [[0 for __ in range(Dimension)] for _ in range(N_pad)]\n",
        "        temp3 = [[0 for __ in range(Dimension)] for _ in range(O)]\n",
        "        temp4 = data[i+N+O : i+N+O+P]\n",
        "        temp5 = [[0 for __ in range(Dimension)] for _ in range(P_pad)]\n",
        "\n",
        "        tosave = np.append(np.append(np.append(np.append(temp1, temp2), temp3), temp4), temp5)\n",
        "        X.append(tosave)\n",
        "        y.append(data[i+N : i+N+O, 0])\n",
        "  \n",
        "  X = np.array(X)\n",
        "  y = np.array(y)\n",
        "  X = X.reshape(X.shape[0], Dimension, N_max+O+P_max)\n",
        "\n",
        "  return X, y, scaler"
      ],
      "execution_count": 0,
      "outputs": []
    },
    {
      "cell_type": "code",
      "metadata": {
        "id": "e88YIDQQFh0p",
        "colab_type": "code",
        "colab": {}
      },
      "source": [
        "Output = 5\n",
        "X, y, scaler = getData(d, O=Output, P_min=0, P_max=0, N_min=10, N_max=16)"
      ],
      "execution_count": 0,
      "outputs": []
    },
    {
      "cell_type": "code",
      "metadata": {
        "id": "dRKb5CUcFkj1",
        "colab_type": "code",
        "colab": {
          "base_uri": "https://localhost:8080/",
          "height": 34
        },
        "outputId": "f8e74922-9435-4463-ba79-da6d9d6a08f4"
      },
      "source": [
        "X.shape"
      ],
      "execution_count": 10,
      "outputs": [
        {
          "output_type": "execute_result",
          "data": {
            "text/plain": [
              "(161, 1, 21)"
            ]
          },
          "metadata": {
            "tags": []
          },
          "execution_count": 10
        }
      ]
    },
    {
      "cell_type": "code",
      "metadata": {
        "id": "Qvacog0WFqGl",
        "colab_type": "code",
        "colab": {
          "base_uri": "https://localhost:8080/",
          "height": 34
        },
        "outputId": "c5cce9d7-59ae-494d-f137-18a3b85df788"
      },
      "source": [
        "y.shape"
      ],
      "execution_count": 11,
      "outputs": [
        {
          "output_type": "execute_result",
          "data": {
            "text/plain": [
              "(161, 5)"
            ]
          },
          "metadata": {
            "tags": []
          },
          "execution_count": 11
        }
      ]
    },
    {
      "cell_type": "code",
      "metadata": {
        "id": "he6Wl3AnFrsl",
        "colab_type": "code",
        "colab": {}
      },
      "source": [
        "from sklearn.model_selection import train_test_split "
      ],
      "execution_count": 0,
      "outputs": []
    },
    {
      "cell_type": "code",
      "metadata": {
        "id": "D1U0vCknF-Rl",
        "colab_type": "code",
        "colab": {}
      },
      "source": [
        "X_train, X_test, y_train, y_test = train_test_split(X, y, shuffle=False)"
      ],
      "execution_count": 0,
      "outputs": []
    },
    {
      "cell_type": "code",
      "metadata": {
        "id": "9akHGs4xGMSN",
        "colab_type": "code",
        "colab": {
          "base_uri": "https://localhost:8080/",
          "height": 34
        },
        "outputId": "ffd513a3-fe37-4bb2-cb04-63b85b5ca87a"
      },
      "source": [
        "X_train.shape"
      ],
      "execution_count": 14,
      "outputs": [
        {
          "output_type": "execute_result",
          "data": {
            "text/plain": [
              "(120, 1, 21)"
            ]
          },
          "metadata": {
            "tags": []
          },
          "execution_count": 14
        }
      ]
    },
    {
      "cell_type": "code",
      "metadata": {
        "id": "MvwdTCzSGOp0",
        "colab_type": "code",
        "colab": {
          "base_uri": "https://localhost:8080/",
          "height": 326
        },
        "outputId": "58912cb3-372e-49f3-baac-cc88afcc8e40"
      },
      "source": [
        "!pip install keras-self-attention"
      ],
      "execution_count": 15,
      "outputs": [
        {
          "output_type": "stream",
          "text": [
            "Collecting keras-self-attention\n",
            "  Downloading https://files.pythonhosted.org/packages/44/3e/eb1a7c7545eede073ceda2f5d78442b6cad33b5b750d7f0742866907c34b/keras-self-attention-0.42.0.tar.gz\n",
            "Requirement already satisfied: numpy in /usr/local/lib/python3.6/dist-packages (from keras-self-attention) (1.18.3)\n",
            "Requirement already satisfied: Keras in /usr/local/lib/python3.6/dist-packages (from keras-self-attention) (2.3.1)\n",
            "Requirement already satisfied: scipy>=0.14 in /usr/local/lib/python3.6/dist-packages (from Keras->keras-self-attention) (1.4.1)\n",
            "Requirement already satisfied: keras-applications>=1.0.6 in /usr/local/lib/python3.6/dist-packages (from Keras->keras-self-attention) (1.0.8)\n",
            "Requirement already satisfied: keras-preprocessing>=1.0.5 in /usr/local/lib/python3.6/dist-packages (from Keras->keras-self-attention) (1.1.0)\n",
            "Requirement already satisfied: six>=1.9.0 in /usr/local/lib/python3.6/dist-packages (from Keras->keras-self-attention) (1.12.0)\n",
            "Requirement already satisfied: pyyaml in /usr/local/lib/python3.6/dist-packages (from Keras->keras-self-attention) (3.13)\n",
            "Requirement already satisfied: h5py in /usr/local/lib/python3.6/dist-packages (from Keras->keras-self-attention) (2.10.0)\n",
            "Building wheels for collected packages: keras-self-attention\n",
            "  Building wheel for keras-self-attention (setup.py) ... \u001b[?25l\u001b[?25hdone\n",
            "  Created wheel for keras-self-attention: filename=keras_self_attention-0.42.0-cp36-none-any.whl size=17296 sha256=162a26963e9c819047f04f8b1c0f45da5594dbc2d1d2e46e8d8344c42b27eba1\n",
            "  Stored in directory: /root/.cache/pip/wheels/7b/05/a0/99c0cf60d383f0494e10eca2b238ea98faca9a1fe03cac2894\n",
            "Successfully built keras-self-attention\n",
            "Installing collected packages: keras-self-attention\n",
            "Successfully installed keras-self-attention-0.42.0\n"
          ],
          "name": "stdout"
        }
      ]
    },
    {
      "cell_type": "code",
      "metadata": {
        "id": "_Hnh8-1XGXet",
        "colab_type": "code",
        "colab": {
          "base_uri": "https://localhost:8080/",
          "height": 34
        },
        "outputId": "584bfa66-8a17-449a-fed6-a7a792eae67c"
      },
      "source": [
        "import tensorflow as tf\n",
        "from keras.models import Sequential\n",
        "from keras.layers import Dense, Flatten\n",
        "from keras.layers import LSTM, Bidirectional\n",
        "from keras.layers.convolutional import Conv1D, Conv2D, MaxPooling1D, MaxPooling2D\n",
        "from keras_self_attention import SeqSelfAttention\n",
        "from keras.layers import Dropout"
      ],
      "execution_count": 16,
      "outputs": [
        {
          "output_type": "stream",
          "text": [
            "Using TensorFlow backend.\n"
          ],
          "name": "stderr"
        }
      ]
    },
    {
      "cell_type": "code",
      "metadata": {
        "id": "ajDYtRnNGart",
        "colab_type": "code",
        "colab": {}
      },
      "source": [
        "model = Sequential()\n",
        "model.add(Bidirectional(LSTM(128, return_sequences=True), input_shape=(X_train.shape[1], X_train.shape[2])))\n",
        "model.add(SeqSelfAttention(attention_activation='sigmoid'))\n",
        "model.add(LSTM(64))\n",
        "model.add(Dense(Output))\n",
        "model.compile(optimizer='adam', loss='mse')"
      ],
      "execution_count": 0,
      "outputs": []
    },
    {
      "cell_type": "code",
      "metadata": {
        "id": "CRPVS2u5GlO1",
        "colab_type": "code",
        "colab": {
          "base_uri": "https://localhost:8080/",
          "height": 1000
        },
        "outputId": "85f7ffa6-701c-47a0-95eb-bf9c4a4e9a1a"
      },
      "source": [
        "model.fit(X_train, y_train, epochs=50, verbose=1, validation_data=(X_test, y_test))"
      ],
      "execution_count": 18,
      "outputs": [
        {
          "output_type": "stream",
          "text": [
            "Train on 120 samples, validate on 41 samples\n",
            "Epoch 1/50\n",
            "120/120 [==============================] - 2s 14ms/step - loss: 0.8202 - val_loss: 0.8647\n",
            "Epoch 2/50\n",
            "120/120 [==============================] - 0s 318us/step - loss: 0.7766 - val_loss: 0.8379\n",
            "Epoch 3/50\n",
            "120/120 [==============================] - 0s 321us/step - loss: 0.7306 - val_loss: 0.8076\n",
            "Epoch 4/50\n",
            "120/120 [==============================] - 0s 313us/step - loss: 0.6738 - val_loss: 0.7721\n",
            "Epoch 5/50\n",
            "120/120 [==============================] - 0s 308us/step - loss: 0.6084 - val_loss: 0.7291\n",
            "Epoch 6/50\n",
            "120/120 [==============================] - 0s 312us/step - loss: 0.5257 - val_loss: 0.6728\n",
            "Epoch 7/50\n",
            "120/120 [==============================] - 0s 342us/step - loss: 0.4252 - val_loss: 0.5898\n",
            "Epoch 8/50\n",
            "120/120 [==============================] - 0s 338us/step - loss: 0.3244 - val_loss: 0.4802\n",
            "Epoch 9/50\n",
            "120/120 [==============================] - 0s 324us/step - loss: 0.2204 - val_loss: 0.3635\n",
            "Epoch 10/50\n",
            "120/120 [==============================] - 0s 339us/step - loss: 0.1356 - val_loss: 0.2674\n",
            "Epoch 11/50\n",
            "120/120 [==============================] - 0s 311us/step - loss: 0.0987 - val_loss: 0.2072\n",
            "Epoch 12/50\n",
            "120/120 [==============================] - 0s 301us/step - loss: 0.0860 - val_loss: 0.1836\n",
            "Epoch 13/50\n",
            "120/120 [==============================] - 0s 326us/step - loss: 0.0728 - val_loss: 0.1816\n",
            "Epoch 14/50\n",
            "120/120 [==============================] - 0s 438us/step - loss: 0.0568 - val_loss: 0.2002\n",
            "Epoch 15/50\n",
            "120/120 [==============================] - 0s 328us/step - loss: 0.0474 - val_loss: 0.2111\n",
            "Epoch 16/50\n",
            "120/120 [==============================] - 0s 370us/step - loss: 0.0454 - val_loss: 0.2143\n",
            "Epoch 17/50\n",
            "120/120 [==============================] - 0s 297us/step - loss: 0.0456 - val_loss: 0.2066\n",
            "Epoch 18/50\n",
            "120/120 [==============================] - 0s 347us/step - loss: 0.0443 - val_loss: 0.1950\n",
            "Epoch 19/50\n",
            "120/120 [==============================] - 0s 300us/step - loss: 0.0419 - val_loss: 0.1879\n",
            "Epoch 20/50\n",
            "120/120 [==============================] - 0s 305us/step - loss: 0.0394 - val_loss: 0.1881\n",
            "Epoch 21/50\n",
            "120/120 [==============================] - 0s 311us/step - loss: 0.0376 - val_loss: 0.1956\n",
            "Epoch 22/50\n",
            "120/120 [==============================] - 0s 324us/step - loss: 0.0365 - val_loss: 0.1990\n",
            "Epoch 23/50\n",
            "120/120 [==============================] - 0s 317us/step - loss: 0.0359 - val_loss: 0.1819\n",
            "Epoch 24/50\n",
            "120/120 [==============================] - 0s 320us/step - loss: 0.0343 - val_loss: 0.1783\n",
            "Epoch 25/50\n",
            "120/120 [==============================] - 0s 342us/step - loss: 0.0332 - val_loss: 0.1878\n",
            "Epoch 26/50\n",
            "120/120 [==============================] - 0s 329us/step - loss: 0.0324 - val_loss: 0.1857\n",
            "Epoch 27/50\n",
            "120/120 [==============================] - 0s 310us/step - loss: 0.0316 - val_loss: 0.1698\n",
            "Epoch 28/50\n",
            "120/120 [==============================] - 0s 325us/step - loss: 0.0304 - val_loss: 0.1728\n",
            "Epoch 29/50\n",
            "120/120 [==============================] - 0s 311us/step - loss: 0.0292 - val_loss: 0.1706\n",
            "Epoch 30/50\n",
            "120/120 [==============================] - 0s 304us/step - loss: 0.0284 - val_loss: 0.1662\n",
            "Epoch 31/50\n",
            "120/120 [==============================] - 0s 314us/step - loss: 0.0275 - val_loss: 0.1637\n",
            "Epoch 32/50\n",
            "120/120 [==============================] - 0s 347us/step - loss: 0.0266 - val_loss: 0.1690\n",
            "Epoch 33/50\n",
            "120/120 [==============================] - 0s 323us/step - loss: 0.0258 - val_loss: 0.1591\n",
            "Epoch 34/50\n",
            "120/120 [==============================] - 0s 308us/step - loss: 0.0248 - val_loss: 0.1528\n",
            "Epoch 35/50\n",
            "120/120 [==============================] - 0s 389us/step - loss: 0.0241 - val_loss: 0.1457\n",
            "Epoch 36/50\n",
            "120/120 [==============================] - 0s 305us/step - loss: 0.0235 - val_loss: 0.1428\n",
            "Epoch 37/50\n",
            "120/120 [==============================] - 0s 310us/step - loss: 0.0230 - val_loss: 0.1562\n",
            "Epoch 38/50\n",
            "120/120 [==============================] - 0s 370us/step - loss: 0.0222 - val_loss: 0.1455\n",
            "Epoch 39/50\n",
            "120/120 [==============================] - 0s 320us/step - loss: 0.0214 - val_loss: 0.1329\n",
            "Epoch 40/50\n",
            "120/120 [==============================] - 0s 317us/step - loss: 0.0212 - val_loss: 0.1351\n",
            "Epoch 41/50\n",
            "120/120 [==============================] - 0s 361us/step - loss: 0.0207 - val_loss: 0.1349\n",
            "Epoch 42/50\n",
            "120/120 [==============================] - 0s 318us/step - loss: 0.0201 - val_loss: 0.1358\n",
            "Epoch 43/50\n",
            "120/120 [==============================] - 0s 307us/step - loss: 0.0198 - val_loss: 0.1355\n",
            "Epoch 44/50\n",
            "120/120 [==============================] - 0s 312us/step - loss: 0.0197 - val_loss: 0.1287\n",
            "Epoch 45/50\n",
            "120/120 [==============================] - 0s 320us/step - loss: 0.0191 - val_loss: 0.1345\n",
            "Epoch 46/50\n",
            "120/120 [==============================] - 0s 319us/step - loss: 0.0187 - val_loss: 0.1275\n",
            "Epoch 47/50\n",
            "120/120 [==============================] - 0s 322us/step - loss: 0.0185 - val_loss: 0.1251\n",
            "Epoch 48/50\n",
            "120/120 [==============================] - 0s 320us/step - loss: 0.0183 - val_loss: 0.1311\n",
            "Epoch 49/50\n",
            "120/120 [==============================] - 0s 323us/step - loss: 0.0178 - val_loss: 0.1202\n",
            "Epoch 50/50\n",
            "120/120 [==============================] - 0s 321us/step - loss: 0.0175 - val_loss: 0.1271\n"
          ],
          "name": "stdout"
        },
        {
          "output_type": "execute_result",
          "data": {
            "text/plain": [
              "<keras.callbacks.callbacks.History at 0x7fe8b0af50b8>"
            ]
          },
          "metadata": {
            "tags": []
          },
          "execution_count": 18
        }
      ]
    },
    {
      "cell_type": "code",
      "metadata": {
        "id": "4nyIyxTjHA_1",
        "colab_type": "code",
        "colab": {}
      },
      "source": [
        "training_loss = model.history.history['loss']\n",
        "validation_loss = model.history.history['val_loss']"
      ],
      "execution_count": 0,
      "outputs": []
    },
    {
      "cell_type": "code",
      "metadata": {
        "id": "7Chk2v8EHTJO",
        "colab_type": "code",
        "colab": {
          "base_uri": "https://localhost:8080/",
          "height": 279
        },
        "outputId": "ca3e48d6-0cf5-42e1-d62c-8e2d14084b24"
      },
      "source": [
        "plt.figure(figsize=(8,4))\n",
        "plt.xticks(np.arange(0,50,1))\n",
        "plt.plot(range(len(training_loss)),training_loss, 'bo-', label=\"training loss\")\n",
        "plt.plot(range(len(validation_loss)),validation_loss, 'go-', label=\"validation loss\")\n",
        "plt.xlabel(\"Epochs\")\n",
        "plt.ylabel(\"loss\")\n",
        "plt.legend()\n",
        "plt.show()"
      ],
      "execution_count": 27,
      "outputs": [
        {
          "output_type": "display_data",
          "data": {
            "image/png": "[encoded data removed]",
            "text/plain": [
              "<Figure size 576x288 with 1 Axes>"
            ]
          },
          "metadata": {
            "tags": [],
            "needs_background": "light"
          }
        }
      ]
    },
    {
      "cell_type": "markdown",
      "metadata": {
        "id": "yFyepG4dg7hZ",
        "colab_type": "text"
      },
      "source": [
        "## Predicting Last 5 days cases for checking model relevance"
      ]
    },
    {
      "cell_type": "code",
      "metadata": {
        "id": "Axdhr37JKR3N",
        "colab_type": "code",
        "colab": {}
      },
      "source": [
        "t1 = scaler.transform(d[-19:-5])\n",
        "temp = np.append(t1, np.zeros([7, 1])).reshape(-1, 1)\n",
        "temp = temp.reshape(1, 1, -1)\n",
        "y_h = model.predict([temp])\n",
        "y_h = scaler.inverse_transform(y_h)"
      ],
      "execution_count": 0,
      "outputs": []
    },
    {
      "cell_type": "code",
      "metadata": {
        "id": "LafrCHKIKl0V",
        "colab_type": "code",
        "colab": {
          "base_uri": "https://localhost:8080/",
          "height": 281
        },
        "outputId": "8518884f-b818-4e84-893f-6e8c51b765dc"
      },
      "source": [
        "plt.plot(range(35, 40), y_h[0], 'r.-', label=\"Predicted\")\n",
        "plt.plot(d[-40:].reshape(1, -1)[0], label=\"Actual\")\n",
        "plt.title(\"Last 5 Days cases prediction\")\n",
        "plt.legend()\n",
        "plt.show()"
      ],
      "execution_count": 31,
      "outputs": [
        {
          "output_type": "display_data",
          "data": {
            "image/png": "[encoded data removed]",
            "text/plain": [
              "<Figure size 432x288 with 1 Axes>"
            ]
          },
          "metadata": {
            "tags": [],
            "needs_background": "light"
          }
        }
      ]
    },
    {
      "cell_type": "code",
      "metadata": {
        "id": "WbLoqPDxMJgB",
        "colab_type": "code",
        "colab": {}
      },
      "source": [
        ""
      ],
      "execution_count": 0,
      "outputs": []
    },
    {
      "cell_type": "markdown",
      "metadata": {
        "id": "pczjZkKfg1JZ",
        "colab_type": "text"
      },
      "source": [
        "## Predicting Next days Cases"
      ]
    },
    {
      "cell_type": "code",
      "metadata": {
        "id": "BB_kwY76Mdv2",
        "colab_type": "code",
        "colab": {}
      },
      "source": [
        "t1 = scaler.transform(d[-14:])\n",
        "temp = np.append(t1, np.zeros([7, 1])).reshape(-1, 1)\n",
        "temp = temp.reshape(1, 1, -1)\n",
        "y_h = model.predict([temp])\n",
        "y_h = scaler.inverse_transform(y_h)"
      ],
      "execution_count": 0,
      "outputs": []
    },
    {
      "cell_type": "code",
      "metadata": {
        "id": "a7kwwkm3NHiR",
        "colab_type": "code",
        "colab": {
          "base_uri": "https://localhost:8080/",
          "height": 281
        },
        "outputId": "d756bdc4-a202-4ed4-d53b-215637bb813b"
      },
      "source": [
        "plt.plot(range(39, 44), y_h[0], 'r.-', label=\"Predicted\")\n",
        "plt.plot(d[-40:].reshape(1, -1)[0], label=\"Actual\")\n",
        "plt.title(\"Next days cases prediction\")\n",
        "plt.legend()\n",
        "plt.show()"
      ],
      "execution_count": 33,
      "outputs": [
        {
          "output_type": "display_data",
          "data": {
            "image/png": "[encoded data removed]",
            "text/plain": [
              "<Figure size 432x288 with 1 Axes>"
            ]
          },
          "metadata": {
            "tags": [],
            "needs_background": "light"
          }
        }
      ]
    },
    {
      "cell_type": "code",
      "metadata": {
        "id": "Svo-e7TCNZi1",
        "colab_type": "code",
        "colab": {}
      },
      "source": [
        "# y_h"
      ],
      "execution_count": 0,
      "outputs": []
    },
    {
      "cell_type": "code",
      "metadata": {
        "id": "um4TawVugGSE",
        "colab_type": "code",
        "colab": {}
      },
      "source": [
        "# "
      ],
      "execution_count": 0,
      "outputs": []
    },
    {
      "cell_type": "code",
      "metadata": {
        "id": "Zez-EcHe9td9",
        "colab_type": "code",
        "colab": {}
      },
      "source": [
        ""
      ],
      "execution_count": 0,
      "outputs": []
    }
  ]
}