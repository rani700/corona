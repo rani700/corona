{
  "nbformat": 4,
  "nbformat_minor": 0,
  "metadata": {
    "colab": {
      "name": "start.ipynb",
      "provenance": []
    },
    "kernelspec": {
      "name": "python3",
      "display_name": "Python 3"
    }
  },
  "cells": [
    {
      "cell_type": "code",
      "metadata": {
        "id": "6Ocx9UgSb_2e",
        "colab_type": "code",
        "colab": {}
      },
      "source": [
        "data_url = \"https://raw.githubusercontent.com/rani700/corona/master/datasets/train-week2.csv\""
      ],
      "execution_count": 0,
      "outputs": []
    },
    {
      "cell_type": "code",
      "metadata": {
        "id": "UHcG_H66HjGW",
        "colab_type": "code",
        "colab": {}
      },
      "source": [
        "import matplotlib.pyplot as plt\n",
        "import numpy as np\n",
        "import pandas as pd\n",
        "from sklearn.preprocessing import StandardScaler"
      ],
      "execution_count": 0,
      "outputs": []
    },
    {
      "cell_type": "code",
      "metadata": {
        "id": "IHKvjNz9IZ4t",
        "colab_type": "code",
        "colab": {}
      },
      "source": [
        "df = pd.read_csv(data_url)"
      ],
      "execution_count": 0,
      "outputs": []
    },
    {
      "cell_type": "code",
      "metadata": {
        "id": "fcujKT2nIkAz",
        "colab_type": "code",
        "colab": {
          "base_uri": "https://localhost:8080/",
          "height": 204
        },
        "outputId": "afc714a3-78f9-47ca-e512-0130dcc00d38"
      },
      "source": [
        "df.head()"
      ],
      "execution_count": 203,
      "outputs": [
        {
          "output_type": "execute_result",
          "data": {
            "text/html": [
              "<div>\n",
              "<style scoped>\n",
              "    .dataframe tbody tr th:only-of-type {\n",
              "        vertical-align: middle;\n",
              "    }\n",
              "\n",
              "    .dataframe tbody tr th {\n",
              "        vertical-align: top;\n",
              "    }\n",
              "\n",
              "    .dataframe thead th {\n",
              "        text-align: right;\n",
              "    }\n",
              "</style>\n",
              "<table border=\"1\" class=\"dataframe\">\n",
              "  <thead>\n",
              "    <tr style=\"text-align: right;\">\n",
              "      <th></th>\n",
              "      <th>Id</th>\n",
              "      <th>Province_State</th>\n",
              "      <th>Country_Region</th>\n",
              "      <th>Date</th>\n",
              "      <th>ConfirmedCases</th>\n",
              "      <th>Fatalities</th>\n",
              "    </tr>\n",
              "  </thead>\n",
              "  <tbody>\n",
              "    <tr>\n",
              "      <th>0</th>\n",
              "      <td>1</td>\n",
              "      <td>NaN</td>\n",
              "      <td>Afghanistan</td>\n",
              "      <td>2020-01-22</td>\n",
              "      <td>0.0</td>\n",
              "      <td>0.0</td>\n",
              "    </tr>\n",
              "    <tr>\n",
              "      <th>1</th>\n",
              "      <td>2</td>\n",
              "      <td>NaN</td>\n",
              "      <td>Afghanistan</td>\n",
              "      <td>2020-01-23</td>\n",
              "      <td>0.0</td>\n",
              "      <td>0.0</td>\n",
              "    </tr>\n",
              "    <tr>\n",
              "      <th>2</th>\n",
              "      <td>3</td>\n",
              "      <td>NaN</td>\n",
              "      <td>Afghanistan</td>\n",
              "      <td>2020-01-24</td>\n",
              "      <td>0.0</td>\n",
              "      <td>0.0</td>\n",
              "    </tr>\n",
              "    <tr>\n",
              "      <th>3</th>\n",
              "      <td>4</td>\n",
              "      <td>NaN</td>\n",
              "      <td>Afghanistan</td>\n",
              "      <td>2020-01-25</td>\n",
              "      <td>0.0</td>\n",
              "      <td>0.0</td>\n",
              "    </tr>\n",
              "    <tr>\n",
              "      <th>4</th>\n",
              "      <td>5</td>\n",
              "      <td>NaN</td>\n",
              "      <td>Afghanistan</td>\n",
              "      <td>2020-01-26</td>\n",
              "      <td>0.0</td>\n",
              "      <td>0.0</td>\n",
              "    </tr>\n",
              "  </tbody>\n",
              "</table>\n",
              "</div>"
            ],
            "text/plain": [
              "   Id Province_State Country_Region        Date  ConfirmedCases  Fatalities\n",
              "0   1            NaN    Afghanistan  2020-01-22             0.0         0.0\n",
              "1   2            NaN    Afghanistan  2020-01-23             0.0         0.0\n",
              "2   3            NaN    Afghanistan  2020-01-24             0.0         0.0\n",
              "3   4            NaN    Afghanistan  2020-01-25             0.0         0.0\n",
              "4   5            NaN    Afghanistan  2020-01-26             0.0         0.0"
            ]
          },
          "metadata": {
            "tags": []
          },
          "execution_count": 203
        }
      ]
    },
    {
      "cell_type": "code",
      "metadata": {
        "id": "oIE7ouWpIbav",
        "colab_type": "code",
        "colab": {}
      },
      "source": [
        "df = df.rename(columns={'Country_Region': 'Country', 'Province_State': 'State'})"
      ],
      "execution_count": 0,
      "outputs": []
    },
    {
      "cell_type": "code",
      "metadata": {
        "id": "_hJSPYLMIwl2",
        "colab_type": "code",
        "colab": {}
      },
      "source": [
        "df_new = df.iloc[:, [2, 3, 4, 5]].groupby(['Country', 'Date']).sum()"
      ],
      "execution_count": 0,
      "outputs": []
    },
    {
      "cell_type": "code",
      "metadata": {
        "id": "5p0THqtuI2lj",
        "colab_type": "code",
        "colab": {}
      },
      "source": [
        "# Function to generate the time series data\n",
        "def getData(country_name, N_min = 10, N_max = 15, O = 5, P_min = 10, P_max = 15):\n",
        "  df_country = df_new.iloc[df_new.index.get_level_values('Country') == country_name]\n",
        "  data = df_country.values[:, [0]]\n",
        "\n",
        "  scaler = StandardScaler()\n",
        "  scaler.fit(data)\n",
        "  data = scaler.transform(data)\n",
        "\n",
        "\n",
        "  N_min = N_min\n",
        "  N_max = N_max\n",
        "  O = O\n",
        "  P_min = P_min\n",
        "  P_max = P_max\n",
        "  Dimension = 1\n",
        "\n",
        "  X = []\n",
        "  y = []\n",
        "\n",
        "  for N in range(N_min, N_max+1):\n",
        "    for P in range(P_min, P_max+1):\n",
        "      for i in range(len(data) - (N + O + P) +1):\n",
        "        N_pad = N_max - N\n",
        "        P_pad = P_max - P\n",
        "\n",
        "        temp1 = data[i : i+N]\n",
        "        temp2 = [[0 for __ in range(Dimension)] for _ in range(N_pad)]\n",
        "        temp3 = [[0 for __ in range(Dimension)] for _ in range(O)]\n",
        "        temp4 = data[i+N+O : i+N+O+P]\n",
        "        temp5 = [[0 for __ in range(Dimension)] for _ in range(P_pad)]\n",
        "\n",
        "        tosave = np.append(np.append(np.append(np.append(temp1, temp2), temp3), temp4), temp5)\n",
        "        X.append(tosave)\n",
        "        y.append(data[i+N : i+N+O, 0])\n",
        "  \n",
        "  X = np.array(X)\n",
        "  y = np.array(y)\n",
        "  X = X.reshape(X.shape[0], Dimension, N_max+O+P_max)\n",
        "\n",
        "  return X, y, scaler"
      ],
      "execution_count": 0,
      "outputs": []
    },
    {
      "cell_type": "code",
      "metadata": {
        "id": "bqJI_wxgJVjW",
        "colab_type": "code",
        "colab": {}
      },
      "source": [
        "Input = 20\n",
        "X_india, y_india, scaler_india = getData('India', N_min = Input, N_max = Input, O = Output, P_min = 0, P_max = 0)\n",
        "X_india = X_india.reshape(X_india.shape[0], X_india.shape[1]*X_india.shape[2])"
      ],
      "execution_count": 0,
      "outputs": []
    },
    {
      "cell_type": "code",
      "metadata": {
        "id": "0VqUsx7BJXgq",
        "colab_type": "code",
        "colab": {
          "base_uri": "https://localhost:8080/",
          "height": 34
        },
        "outputId": "804df530-5519-46d3-d827-0ea6cca33b8f"
      },
      "source": [
        "from sklearn.linear_model import LinearRegression\n",
        "reg = LinearRegression()\n",
        "reg.fit(X_india, y_india)"
      ],
      "execution_count": 468,
      "outputs": [
        {
          "output_type": "execute_result",
          "data": {
            "text/plain": [
              "LinearRegression(copy_X=True, fit_intercept=True, n_jobs=None, normalize=False)"
            ]
          },
          "metadata": {
            "tags": []
          },
          "execution_count": 468
        }
      ]
    },
    {
      "cell_type": "code",
      "metadata": {
        "id": "RvuaJUlDKz87",
        "colab_type": "code",
        "colab": {
          "base_uri": "https://localhost:8080/",
          "height": 34
        },
        "outputId": "55ce31a3-cc80-43ef-bf6e-41e173cd7beb"
      },
      "source": [
        "reg.score(X_india, y_india)"
      ],
      "execution_count": 469,
      "outputs": [
        {
          "output_type": "execute_result",
          "data": {
            "text/plain": [
              "0.9996515490228056"
            ]
          },
          "metadata": {
            "tags": []
          },
          "execution_count": 469
        }
      ]
    },
    {
      "cell_type": "code",
      "metadata": {
        "id": "rrqcH_VKLAeh",
        "colab_type": "code",
        "colab": {}
      },
      "source": [
        "y_hat = scaler_india.inverse_transform(reg.predict(X_india))\n",
        "y = scaler_india.inverse_transform(y_india)"
      ],
      "execution_count": 0,
      "outputs": []
    },
    {
      "cell_type": "code",
      "metadata": {
        "id": "o8T3avaSLhIN",
        "colab_type": "code",
        "colab": {
          "base_uri": "https://localhost:8080/",
          "height": 34
        },
        "outputId": "8c2a7586-3123-4e9d-b871-e6c97d9f9353"
      },
      "source": [
        "from sklearn.metrics import mean_squared_error\n",
        "mean_squared_error(y, y_hat)"
      ],
      "execution_count": 471,
      "outputs": [
        {
          "output_type": "execute_result",
          "data": {
            "text/plain": [
              "20.69457672762824"
            ]
          },
          "metadata": {
            "tags": []
          },
          "execution_count": 471
        }
      ]
    },
    {
      "cell_type": "code",
      "metadata": {
        "id": "RNzV4FstMVS7",
        "colab_type": "code",
        "colab": {
          "base_uri": "https://localhost:8080/",
          "height": 279
        },
        "outputId": "762800ce-444f-4d19-e7c8-214ec105ee0a"
      },
      "source": [
        "# plt.figure(figsize=(15, 5))\n",
        "plt.plot(y, label=\"Actual\")\n",
        "plt.plot(y_hat, label=\"Prediction\")\n",
        "plt.xlabel(\"Days\")\n",
        "plt.ylabel(\"Confirmed Cases\")\n",
        "plt.legend()\n",
        "plt.show()"
      ],
      "execution_count": 472,
      "outputs": [
        {
          "output_type": "display_data",
          "data": {
            "image/png": "[encoded data removed]",
            "text/plain": [
              "<Figure size 432x288 with 1 Axes>"
            ]
          },
          "metadata": {
            "tags": []
          }
        }
      ]
    },
    {
      "cell_type": "code",
      "metadata": {
        "id": "5erd_hGpOVgg",
        "colab_type": "code",
        "colab": {}
      },
      "source": [
        "df_india = df_new.iloc[df_new.index.get_level_values('Country') == 'India']"
      ],
      "execution_count": 0,
      "outputs": []
    },
    {
      "cell_type": "code",
      "metadata": {
        "id": "SgIsV37iOrMj",
        "colab_type": "code",
        "colab": {}
      },
      "source": [
        "data = df_india.values[:, [0]]\n",
        "scaler = StandardScaler()\n",
        "scaler.fit(data)\n",
        "data = scaler.transform(data)\n",
        "data = data.reshape(1, -1)[0]\n",
        "\n",
        "data_op = y_india.copy()\n",
        "data_op = scaler_india.inverse_transform(data_op)"
      ],
      "execution_count": 0,
      "outputs": []
    },
    {
      "cell_type": "code",
      "metadata": {
        "id": "VHjP4xOZTr6t",
        "colab_type": "code",
        "colab": {}
      },
      "source": [
        "# Days after 28th march till 14 April is 17 so I predicted continously for 17 days\n",
        "for i in range(17):\n",
        "  test = data[-Input:]\n",
        "  test = np.append(test, 0)\n",
        "  prediction = reg.predict(test.reshape(1, -1))[0][0]\n",
        "  data = np.append(data, prediction)\n",
        "  data_op = np.append(data_op, scaler_india.inverse_transform([prediction]))"
      ],
      "execution_count": 0,
      "outputs": []
    },
    {
      "cell_type": "code",
      "metadata": {
        "id": "IrS5388bPofs",
        "colab_type": "code",
        "colab": {
          "base_uri": "https://localhost:8080/",
          "height": 295
        },
        "outputId": "20fbc7bd-4532-436c-d5e7-525f356d77df"
      },
      "source": [
        "# plt.figure(figsize=(20, 5))\n",
        "plt.plot(y, '-', label=\"Actual\")\n",
        "plt.plot(data_op, '--', label=\"Forecasting\")\n",
        "plt.plot(y_hat, '.', label=\"Prediction\")\n",
        "plt.xlabel(\"Days\")\n",
        "plt.ylabel(\"Confirmed Cases\")\n",
        "plt.title(str(int(data_op[-1]))+\" Cases On 14th April\")\n",
        "plt.legend()\n",
        "plt.show()"
      ],
      "execution_count": 476,
      "outputs": [
        {
          "output_type": "display_data",
          "data": {
            "image/png": "[encoded data removed]",
            "text/plain": [
              "<Figure size 432x288 with 1 Axes>"
            ]
          },
          "metadata": {
            "tags": []
          }
        }
      ]
    },
    {
      "cell_type": "code",
      "metadata": {
        "id": "XO49Y4ZXQjCw",
        "colab_type": "code",
        "colab": {}
      },
      "source": [
        ""
      ],
      "execution_count": 0,
      "outputs": []
    }
  ]
}